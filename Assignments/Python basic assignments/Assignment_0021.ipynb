{
 "cells": [
  {
   "cell_type": "markdown",
   "metadata": {},
   "source": [
    "### Question 1. \n",
    ">Add the current date to the text file today.txt as a string.\n"
   ]
  },
  {
   "cell_type": "code",
   "execution_count": 1,
   "metadata": {},
   "outputs": [],
   "source": [
    "echo %date% %time% >> today.txt"
   ]
  },
  {
   "cell_type": "markdown",
   "metadata": {},
   "source": [
    "### Question 2. \n",
    ">Read the text file today.txt into the string today_string\n"
   ]
  },
  {
   "cell_type": "code",
   "execution_count": 3,
   "metadata": {},
   "outputs": [
    {
     "data": {
      "text/plain": [
       "'11-05-2021 22:36:39.07 \\n11-05-2021 23:43:53.27 \\n11-05-2021 23:44:05.45 \\n'"
      ]
     },
     "execution_count": 3,
     "metadata": {},
     "output_type": "execute_result"
    }
   ],
   "source": [
    "f = open(\"today.txt\", \"r+\")\n",
    "today_string = f.read()\n",
    "today_string"
   ]
  },
  {
   "cell_type": "markdown",
   "metadata": {},
   "source": [
    "### Question 3. \n",
    ">Parse the date from today_string.\n",
    "\n"
   ]
  },
  {
   "cell_type": "code",
   "execution_count": 4,
   "metadata": {},
   "outputs": [
    {
     "data": {
      "text/plain": [
       "'11-05-2021'"
      ]
     },
     "execution_count": 4,
     "metadata": {},
     "output_type": "execute_result"
    }
   ],
   "source": [
    "today_string[0:10]"
   ]
  },
  {
   "cell_type": "code",
   "execution_count": null,
   "metadata": {},
   "outputs": [],
   "source": []
  },
  {
   "cell_type": "markdown",
   "metadata": {},
   "source": [
    "### Question 4. \n",
    ">List the files in your current directory\n"
   ]
  },
  {
   "cell_type": "code",
   "execution_count": 7,
   "metadata": {},
   "outputs": [],
   "source": [
    "import os"
   ]
  },
  {
   "cell_type": "code",
   "execution_count": 8,
   "metadata": {},
   "outputs": [
    {
     "data": {
      "text/plain": [
       "['.ipynb_checkpoints',\n",
       " 'Assignment_0015.ipynb',\n",
       " 'Assignment_0016.ipynb',\n",
       " 'Assignment_0017.ipynb',\n",
       " 'Assignment_0018.ipynb',\n",
       " 'Assignment_0019.ipynb',\n",
       " 'Assignment_0020.ipynb',\n",
       " 'Assignment_0021 (2).ipynb',\n",
       " 'Assignment_1.ipynb',\n",
       " 'Assignment_2.ipynb',\n",
       " 'Assignment_4.ipynb',\n",
       " 'Assignment_5.ipynb',\n",
       " 'Assignment_6.ipynb',\n",
       " 'books.csv',\n",
       " 'books.db',\n",
       " 'test.txt',\n",
       " 'today.txt',\n",
       " 'zoo.py',\n",
       " '__pycache__']"
      ]
     },
     "execution_count": 8,
     "metadata": {},
     "output_type": "execute_result"
    }
   ],
   "source": [
    "os.listdir()"
   ]
  },
  {
   "cell_type": "markdown",
   "metadata": {},
   "source": [
    "### Question 5. \n",
    ">Create a list of all of the files in your parent directory (minimum five files should be available).\n"
   ]
  },
  {
   "cell_type": "code",
   "execution_count": 14,
   "metadata": {},
   "outputs": [
    {
     "data": {
      "text/plain": [
       "['.ipynb_checkpoints',\n",
       " 'Python advanced',\n",
       " 'Python Basic',\n",
       " 'Python_basic_assiggnments',\n",
       " 'Python_Programming_Assignment']"
      ]
     },
     "execution_count": 14,
     "metadata": {},
     "output_type": "execute_result"
    }
   ],
   "source": [
    "os.listdir(path.parent.absolute())"
   ]
  },
  {
   "cell_type": "markdown",
   "metadata": {},
   "source": [
    "### Question 6. \n",
    ">Use multiprocessing to create three separate processes. Make each one wait a random number of seconds between one and five, print the current time, and then exit.\n"
   ]
  },
  {
   "cell_type": "code",
   "execution_count": 6,
   "metadata": {},
   "outputs": [
    {
     "name": "stdout",
     "output_type": "stream",
     "text": [
      "2021-05-11 23:26:06.820711\n",
      "starting main\n",
      "2021-05-11 23:26:06.914107\n",
      "2021-05-11 23:26:06.984595\n",
      "2021-05-11 23:26:07.057373\n",
      "finishing main\n"
     ]
    }
   ],
   "source": [
    "from multiprocessing import Process\n",
    "import time\n",
    "from datetime import datetime\n",
    "    \n",
    "def process1(name):\n",
    "    time.sleep(random.randint(1, 5))\n",
    "    \n",
    "def process2(name):\n",
    "    time.sleep(random.randint(1, 5))\n",
    "    \n",
    "def process3(name):\n",
    "    time.sleep(random.randint(1, 5))\n",
    "\n",
    "\n",
    "def main():\n",
    "\n",
    "    p = Process(target=process1)\n",
    "    p.start()\n",
    "    p.join()\n",
    "    print(datetime.now())\n",
    "    \n",
    "    p = Process(target=process2)\n",
    "    p.start()\n",
    "    p.join()\n",
    "    print(datetime.now())\n",
    "    \n",
    "    p = Process(target=process2)\n",
    "    p.start()\n",
    "    p.join()\n",
    "    print(datetime.now())\n",
    "\n",
    "\n",
    "if __name__ == '__main__':\n",
    "    \n",
    "    print(datetime.now())\n",
    "\n",
    "    print('starting main')\n",
    "    main()\n",
    "    print('finishing main')"
   ]
  },
  {
   "cell_type": "code",
   "execution_count": null,
   "metadata": {},
   "outputs": [],
   "source": []
  },
  {
   "cell_type": "markdown",
   "metadata": {},
   "source": [
    "### Question 7. \n",
    ">Create a date object of your day of birth.\n"
   ]
  },
  {
   "cell_type": "code",
   "execution_count": 8,
   "metadata": {},
   "outputs": [
    {
     "name": "stdout",
     "output_type": "stream",
     "text": [
      "2021-06-03 00:00:00\n"
     ]
    }
   ],
   "source": [
    "import datetime\n",
    "x = datetime.datetime(2021, 6, 3)\n",
    "print(x)"
   ]
  },
  {
   "cell_type": "code",
   "execution_count": null,
   "metadata": {},
   "outputs": [],
   "source": []
  },
  {
   "cell_type": "markdown",
   "metadata": {},
   "source": [
    "### Question 8. \n",
    ">What day of the week was your day of birth?\n"
   ]
  },
  {
   "cell_type": "code",
   "execution_count": 2,
   "metadata": {},
   "outputs": [
    {
     "name": "stdout",
     "output_type": "stream",
     "text": [
      "The Weekday for a Given date(03-06-2021) is Thursday\n"
     ]
    }
   ],
   "source": [
    "import datetime\n",
    "date='03-06-2021'\n",
    "day_name= ['Monday', 'Tuesday', 'Wednesday', 'Thursday', 'Friday', 'Saturday','Sunday']\n",
    "day = datetime.datetime.strptime(date, '%d-%m-%Y').weekday()\n",
    "print(\"The Weekday for a Given date({0}) is {1}\".format(date,day_name[day]))"
   ]
  },
  {
   "cell_type": "code",
   "execution_count": null,
   "metadata": {},
   "outputs": [],
   "source": []
  },
  {
   "cell_type": "markdown",
   "metadata": {},
   "source": [
    "### Question 9. \n",
    ">When will you be (or when were you) 10,000 days old?\n"
   ]
  },
  {
   "cell_type": "code",
   "execution_count": 4,
   "metadata": {},
   "outputs": [
    {
     "name": "stdout",
     "output_type": "stream",
     "text": [
      "9108 days, 23:45:00.879771\n"
     ]
    }
   ],
   "source": [
    "from datetime import datetime, timedelta\n",
    "particular_date = datetime(1996, 6, 3)\n",
    "new_date = datetime.today() - particular_date\n",
    "print (new_date)"
   ]
  },
  {
   "cell_type": "code",
   "execution_count": 7,
   "metadata": {},
   "outputs": [
    {
     "data": {
      "text/plain": [
       "26.350461133069828"
      ]
     },
     "execution_count": 7,
     "metadata": {},
     "output_type": "execute_result"
    }
   ],
   "source": [
    "24 * 10000 / 9108"
   ]
  },
  {
   "cell_type": "code",
   "execution_count": null,
   "metadata": {},
   "outputs": [],
   "source": []
  }
 ],
 "metadata": {
  "kernelspec": {
   "display_name": "Python 3",
   "language": "python",
   "name": "python3"
  },
  "language_info": {
   "codemirror_mode": {
    "name": "ipython",
    "version": 3
   },
   "file_extension": ".py",
   "mimetype": "text/x-python",
   "name": "python",
   "nbconvert_exporter": "python",
   "pygments_lexer": "ipython3",
   "version": "3.8.5"
  }
 },
 "nbformat": 4,
 "nbformat_minor": 5
}
