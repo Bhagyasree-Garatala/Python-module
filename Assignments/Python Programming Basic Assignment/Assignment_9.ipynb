{
 "cells": [
  {
   "cell_type": "markdown",
   "metadata": {},
   "source": [
    "### 1. Write a Python program to check if the given number is a Disarium Number?"
   ]
  },
  {
   "cell_type": "code",
   "execution_count": 20,
   "metadata": {},
   "outputs": [],
   "source": [
    "def Disarium(n):\n",
    "    '''Enter a number to check if the number is a Disarium or not'''\n",
    "    no_of_digits = len(str(n))  # gives num of digits in a given num\n",
    "    sum = 0\n",
    "    x = n\n",
    "    while x != 0:\n",
    "        last_digit = x % 10         # traversing to the last digit\n",
    "        sum = sum + (last_digit**no_of_digits)\n",
    "        x = x//10\n",
    "        no_of_digits = no_of_digits - 1\n",
    "       \n",
    "    if sum == n:\n",
    "        print(\"Given number is a Disarium Number\")\n",
    "    else:\n",
    "        print(\"Given number is a not Disarium Number\")    "
   ]
  },
  {
   "cell_type": "code",
   "execution_count": 21,
   "metadata": {},
   "outputs": [
    {
     "name": "stdout",
     "output_type": "stream",
     "text": [
      "Given number is a Disarium Number\n"
     ]
    }
   ],
   "source": [
    "Disarium(135)"
   ]
  },
  {
   "cell_type": "code",
   "execution_count": 22,
   "metadata": {},
   "outputs": [
    {
     "name": "stdout",
     "output_type": "stream",
     "text": [
      "Given number is a not Disarium Number\n"
     ]
    }
   ],
   "source": [
    "Disarium(125)"
   ]
  },
  {
   "cell_type": "markdown",
   "metadata": {},
   "source": [
    "### 2. Write a Python program to print all disarium numbers between 1 to 100?"
   ]
  },
  {
   "cell_type": "code",
   "execution_count": 23,
   "metadata": {},
   "outputs": [
    {
     "name": "stdout",
     "output_type": "stream",
     "text": [
      "Disarium numbers between 1 and 100 are\n",
      "1\n",
      "2\n",
      "3\n",
      "4\n",
      "5\n",
      "6\n",
      "7\n",
      "8\n",
      "9\n",
      "89\n"
     ]
    }
   ],
   "source": [
    "def calculateLength(n):    \n",
    "    length = 0    \n",
    "    while(n != 0):   \n",
    "        length = length + 1    \n",
    "        n = n//10    \n",
    "    return length    \n",
    "     \n",
    "#sumOfDigits() will calculates the sum of digits powered with their respective position    \n",
    "def sumOfDigits(num):    \n",
    "    sum = 0    \n",
    "    len = calculateLength(num)    \n",
    "        \n",
    "    while(num > 0):    \n",
    "        rem = num % 10    \n",
    "        sum = sum + (rem**len)    \n",
    "        num = num//10    \n",
    "        len = len - 1;   \n",
    "    return sum     \n",
    "     \n",
    "#Displays all disarium numbers between 1 and 100    \n",
    "print(\"Disarium numbers between 1 and 100 are\")   \n",
    "for i in range(1, 101):    \n",
    "    result = sumOfDigits(i)    \n",
    "        \n",
    "    if(result == i):    \n",
    "        print(i)"
   ]
  },
  {
   "cell_type": "markdown",
   "metadata": {},
   "source": [
    "### 3. Write a Python program to check if the given number is Happy Number?"
   ]
  },
  {
   "cell_type": "code",
   "execution_count": 102,
   "metadata": {},
   "outputs": [
    {
     "name": "stdout",
     "output_type": "stream",
     "text": [
      "Enter a number: 19\n",
      "82\n",
      "68\n",
      "100\n",
      "1\n",
      "19 is a happy number\n"
     ]
    }
   ],
   "source": [
    "def HappyNumber(num):  \n",
    "    sum = 0  \n",
    "      \n",
    "    #Calculates the sum of squares of digits  \n",
    "    while(num > 0):  \n",
    "        rem = num % 10  \n",
    "        sum = sum + (rem*rem)  \n",
    "        num = num//10\n",
    "    print(sum)\n",
    "    return sum \n",
    "    \n",
    "num = int(input(\"Enter a number: \"))  \n",
    "result = num\n",
    "   \n",
    "while(result != 1 and result != 4):  \n",
    "    result = HappyNumber(result)  \n",
    "   \n",
    " #Happy number always ends with 1  \n",
    "if(result == 1): \n",
    "    print(str(num) + \" is a happy number\")\n",
    "    \n",
    "#Unhappy number ends in a cycle of repeating numbers which contain 4  \n",
    "elif(result == 4):  \n",
    "    print(str(num) + \" is not a happy number\") "
   ]
  },
  {
   "cell_type": "markdown",
   "metadata": {},
   "source": [
    "### 4. Write a Python program to print all happy numbers between 1 and 100?"
   ]
  },
  {
   "cell_type": "code",
   "execution_count": 42,
   "metadata": {},
   "outputs": [
    {
     "name": "stdout",
     "output_type": "stream",
     "text": [
      "happy numbers between 1 and 100: \n",
      "1\n",
      "7\n",
      "10\n",
      "13\n",
      "19\n",
      "23\n",
      "28\n",
      "31\n",
      "32\n",
      "44\n",
      "49\n",
      "68\n",
      "70\n",
      "79\n",
      "82\n",
      "86\n",
      "91\n",
      "94\n",
      "97\n",
      "100\n"
     ]
    }
   ],
   "source": [
    "def isHappyNumber(num):  \n",
    "    sum = 0  \n",
    "    \n",
    "    while(num > 0):  \n",
    "        rem = num%10  \n",
    "        sum = sum + (rem*rem)  \n",
    "        num = num//10  \n",
    "    return sum  \n",
    "          \n",
    "print(\"happy numbers between 1 and 100: \")\n",
    "\n",
    "for i in range(1, 101):  \n",
    "    result = i  \n",
    "    \n",
    "    while(result != 1 and result != 4):  \n",
    "        result = isHappyNumber(result)  \n",
    "\n",
    "    if(result == 1):  \n",
    "        print(i)   "
   ]
  },
  {
   "cell_type": "markdown",
   "metadata": {},
   "source": [
    "### 5. Write a Python program to determine whether the given number is a Harshad Number?"
   ]
  },
  {
   "cell_type": "code",
   "execution_count": 95,
   "metadata": {},
   "outputs": [],
   "source": [
    "def harshadNumber():\n",
    "    n = int(input(\"Enter a number: \"))\n",
    "    sum = 0\n",
    "    num = n\n",
    "    while(num > 0):\n",
    "        rem = num % 10\n",
    "        sum = sum + rem\n",
    "        num = num // 10\n",
    "    if(n%sum == 0):    \n",
    "        print(str(n) + \" is a harshad number\")\n",
    "    else:\n",
    "        print(str(n) + \" is not a harshad number\")"
   ]
  },
  {
   "cell_type": "code",
   "execution_count": 96,
   "metadata": {},
   "outputs": [
    {
     "name": "stdout",
     "output_type": "stream",
     "text": [
      "Enter a number: 156\n",
      "156 is a harshad number\n"
     ]
    }
   ],
   "source": [
    "harshadNumber()"
   ]
  },
  {
   "cell_type": "code",
   "execution_count": 97,
   "metadata": {},
   "outputs": [
    {
     "name": "stdout",
     "output_type": "stream",
     "text": [
      "Enter a number: 17\n",
      "17 is not a harshad number\n"
     ]
    }
   ],
   "source": [
    "harshadNumber()"
   ]
  },
  {
   "cell_type": "markdown",
   "metadata": {},
   "source": [
    "### 6. Write a Python program to print all pronic numbers between 1 and 100?"
   ]
  },
  {
   "cell_type": "code",
   "execution_count": 25,
   "metadata": {},
   "outputs": [
    {
     "name": "stdout",
     "output_type": "stream",
     "text": [
      "Pronic numbers between 1 and 100: \n",
      "2\n",
      "6\n",
      "12\n",
      "20\n",
      "30\n",
      "42\n",
      "56\n",
      "72\n",
      "90\n"
     ]
    }
   ],
   "source": [
    "def PronicNumber(num):\n",
    "    for j in range(1, num+1):        \n",
    "        if((j*(j+1)) == num):    \n",
    "            return True    \n",
    "            break       \n",
    "print(\"Pronic numbers between 1 and 100: \")    \n",
    "for i in range(1, 101):    \n",
    "    if(PronicNumber(i)):    \n",
    "        print(i)     "
   ]
  },
  {
   "cell_type": "code",
   "execution_count": null,
   "metadata": {},
   "outputs": [],
   "source": []
  }
 ],
 "metadata": {
  "kernelspec": {
   "display_name": "Python 3",
   "language": "python",
   "name": "python3"
  },
  "language_info": {
   "codemirror_mode": {
    "name": "ipython",
    "version": 3
   },
   "file_extension": ".py",
   "mimetype": "text/x-python",
   "name": "python",
   "nbconvert_exporter": "python",
   "pygments_lexer": "ipython3",
   "version": "3.8.5"
  }
 },
 "nbformat": 4,
 "nbformat_minor": 4
}
