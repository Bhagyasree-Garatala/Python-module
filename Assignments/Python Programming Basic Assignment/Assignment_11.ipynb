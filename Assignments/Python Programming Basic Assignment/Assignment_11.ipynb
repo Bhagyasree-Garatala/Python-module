{
 "cells": [
  {
   "cell_type": "markdown",
   "metadata": {},
   "source": [
    "### 1. Write a Python program to find words which are greater than given length k?"
   ]
  },
  {
   "cell_type": "code",
   "execution_count": 13,
   "metadata": {},
   "outputs": [
    {
     "name": "stdout",
     "output_type": "stream",
     "text": [
      "Enter a string: I am interested in full stack data science course\n",
      "Enter the length of k: 4\n"
     ]
    },
    {
     "data": {
      "text/plain": [
       "['interested', 'stack', 'science', 'course']"
      ]
     },
     "execution_count": 13,
     "metadata": {},
     "output_type": "execute_result"
    }
   ],
   "source": [
    "def lenofwords(s,k):\n",
    "    '''s = enter the string, k = enter the length of k'''\n",
    "    a = s.split()\n",
    "    return [i for i in a if len(i) > k]\n",
    "\n",
    "s = input(\"Enter a string: \")\n",
    "k = int(input(\"Enter the length of k: \"))\n",
    "\n",
    "lenofwords(s,k)"
   ]
  },
  {
   "cell_type": "markdown",
   "metadata": {},
   "source": [
    "### 2. Write a Python program for removing i-th character from a string?"
   ]
  },
  {
   "cell_type": "code",
   "execution_count": 14,
   "metadata": {},
   "outputs": [
    {
     "name": "stdout",
     "output_type": "stream",
     "text": [
      "Enter a string: I love chocolates\n",
      "Enter the value of i: 4\n"
     ]
    },
    {
     "data": {
      "text/plain": [
       "'I loe chocolates'"
      ]
     },
     "execution_count": 14,
     "metadata": {},
     "output_type": "execute_result"
    }
   ],
   "source": [
    "def remove_ith_char(s,i):\n",
    "    lis = list(s)\n",
    "    lis.pop(i)\n",
    "    new_s = \"\"\n",
    "    return new_s.join(lis)\n",
    "s = input(\"Enter a string: \")\n",
    "i = int(input(\"Enter the value of i: \"))\n",
    "remove_ith_char(s,i)"
   ]
  },
  {
   "cell_type": "markdown",
   "metadata": {},
   "source": [
    "### 3. Write a Python program to split and join a string?"
   ]
  },
  {
   "cell_type": "code",
   "execution_count": 7,
   "metadata": {},
   "outputs": [
    {
     "name": "stdout",
     "output_type": "stream",
     "text": [
      "Enter String: my name is xyz\n",
      "splitted string:  ['my', 'name', 'is', 'xyz']\n",
      "joined string:  my-name-is-xyz\n"
     ]
    }
   ],
   "source": [
    "str1=input(\"Enter String: \")\n",
    "split_str = str1.split()\n",
    "print(\"splitted string: \",split_str)\n",
    "join_string = '-'.join(split_str)\n",
    "print(\"joined string: \",join_string)"
   ]
  },
  {
   "cell_type": "markdown",
   "metadata": {},
   "source": [
    "### 4. Write a Python to check if a given string is binary string or not?"
   ]
  },
  {
   "cell_type": "code",
   "execution_count": 10,
   "metadata": {},
   "outputs": [],
   "source": [
    "def BinaryorNot(s):\n",
    "    l = [i for i in s]\n",
    "    set1 = set(l)\n",
    "    if set1 == {'0','1'} or set1 == {'1','0'}:\n",
    "        print(\"given string is binary\")\n",
    "    else:\n",
    "        print(\"given string is not binary\")"
   ]
  },
  {
   "cell_type": "code",
   "execution_count": 11,
   "metadata": {},
   "outputs": [
    {
     "name": "stdout",
     "output_type": "stream",
     "text": [
      "given string is binary\n"
     ]
    }
   ],
   "source": [
    "BinaryorNot(\"100100110101\")"
   ]
  },
  {
   "cell_type": "code",
   "execution_count": 12,
   "metadata": {},
   "outputs": [
    {
     "name": "stdout",
     "output_type": "stream",
     "text": [
      "given string is not binary\n"
     ]
    }
   ],
   "source": [
    "BinaryorNot(\"1037217920011\")"
   ]
  },
  {
   "cell_type": "markdown",
   "metadata": {},
   "source": [
    "### 5. Write a Python program to find uncommon words from two Strings?"
   ]
  },
  {
   "cell_type": "code",
   "execution_count": 13,
   "metadata": {},
   "outputs": [],
   "source": [
    "def SetIntersection(s1,s2):\n",
    "    s1 = set([i for i in s1])\n",
    "    s2 = set([i for i in s2])\n",
    "    return s1 - s1.intersection(s2) , s2 - s1.intersection(s2)"
   ]
  },
  {
   "cell_type": "code",
   "execution_count": 14,
   "metadata": {},
   "outputs": [
    {
     "data": {
      "text/plain": [
       "({'e', 'l', 's', 't'}, {'b', 'r'})"
      ]
     },
     "execution_count": 14,
     "metadata": {},
     "output_type": "execute_result"
    }
   ],
   "source": [
    "SetIntersection(\"chocolates\",\"chocobar\")"
   ]
  },
  {
   "cell_type": "markdown",
   "metadata": {},
   "source": [
    "### 6. Write a Python to find all duplicate characters in string?"
   ]
  },
  {
   "cell_type": "code",
   "execution_count": 20,
   "metadata": {},
   "outputs": [
    {
     "name": "stdout",
     "output_type": "stream",
     "text": [
      "c o\n"
     ]
    }
   ],
   "source": [
    "string = \"chocolates\"\n",
    "duplicates = []\n",
    "for char in string:\n",
    "    if string.count(char) > 1:\n",
    "        if char not in duplicates:\n",
    "            duplicates.append(char)\n",
    "print(*duplicates)"
   ]
  },
  {
   "cell_type": "markdown",
   "metadata": {},
   "source": [
    "### 7. Write a Python Program to check if a string contains any special character?"
   ]
  },
  {
   "cell_type": "code",
   "execution_count": 23,
   "metadata": {},
   "outputs": [],
   "source": [
    "import re\n",
    "def SpecialCharecter(string):\n",
    "    regex = re.compile('[@_!#$%^&*()<>?/\\|}{~:]')\n",
    "    if(regex.search(string) == None):\n",
    "        print(\"String does not contain Special Characters\")\n",
    "\n",
    "    else:\n",
    "        print(\"String contains Special Characters\")"
   ]
  },
  {
   "cell_type": "code",
   "execution_count": 25,
   "metadata": {},
   "outputs": [
    {
     "name": "stdout",
     "output_type": "stream",
     "text": [
      "String contains Special Characters\n"
     ]
    }
   ],
   "source": [
    "SpecialCharecter(\"my n@me !s Bh#gya\")"
   ]
  },
  {
   "cell_type": "code",
   "execution_count": 26,
   "metadata": {},
   "outputs": [
    {
     "name": "stdout",
     "output_type": "stream",
     "text": [
      "String does not contain Special Characters\n"
     ]
    }
   ],
   "source": [
    "SpecialCharecter(\"my name is bhagya\")"
   ]
  },
  {
   "cell_type": "code",
   "execution_count": null,
   "metadata": {},
   "outputs": [],
   "source": []
  }
 ],
 "metadata": {
  "kernelspec": {
   "display_name": "Python 3",
   "language": "python",
   "name": "python3"
  },
  "language_info": {
   "codemirror_mode": {
    "name": "ipython",
    "version": 3
   },
   "file_extension": ".py",
   "mimetype": "text/x-python",
   "name": "python",
   "nbconvert_exporter": "python",
   "pygments_lexer": "ipython3",
   "version": "3.8.5"
  }
 },
 "nbformat": 4,
 "nbformat_minor": 4
}
