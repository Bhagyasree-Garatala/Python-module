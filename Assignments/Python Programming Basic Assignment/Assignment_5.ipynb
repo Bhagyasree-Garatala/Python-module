{
 "cells": [
  {
   "cell_type": "markdown",
   "metadata": {},
   "source": [
    "### 1. Write a Python Program to Find LCM?"
   ]
  },
  {
   "cell_type": "code",
   "execution_count": 11,
   "metadata": {},
   "outputs": [],
   "source": [
    "def LCM(a,b):\n",
    "    \n",
    "    if a>b:\n",
    "        greater = a\n",
    "    else:\n",
    "        greater = b\n",
    "    while(True):\n",
    "        if(greater%a ==0) and (greater%b ==0):\n",
    "            break\n",
    "        greater +=1\n",
    "    return greater"
   ]
  },
  {
   "cell_type": "code",
   "execution_count": 13,
   "metadata": {},
   "outputs": [
    {
     "data": {
      "text/plain": [
       "48"
      ]
     },
     "execution_count": 13,
     "metadata": {},
     "output_type": "execute_result"
    }
   ],
   "source": [
    "LCM(12,48)"
   ]
  },
  {
   "cell_type": "markdown",
   "metadata": {},
   "source": [
    "### 2. Write a Python Program to Find HCF?"
   ]
  },
  {
   "cell_type": "code",
   "execution_count": 14,
   "metadata": {},
   "outputs": [],
   "source": [
    "def HCF(a,b):\n",
    "    \n",
    "    if a<b:\n",
    "        smaller = a\n",
    "    else:\n",
    "        smaller = b\n",
    "    while(True):\n",
    "        if(a % smaller == 0) and (b % smaller == 0):\n",
    "            break\n",
    "        smaller -=1\n",
    "    return smaller"
   ]
  },
  {
   "cell_type": "code",
   "execution_count": 18,
   "metadata": {},
   "outputs": [
    {
     "data": {
      "text/plain": [
       "8"
      ]
     },
     "execution_count": 18,
     "metadata": {},
     "output_type": "execute_result"
    }
   ],
   "source": [
    "HCF(16,24)"
   ]
  },
  {
   "cell_type": "markdown",
   "metadata": {},
   "source": [
    "### 3. Write a Python Program to Convert Decimal to Binary, Octal and Hexadecimal?"
   ]
  },
  {
   "cell_type": "code",
   "execution_count": 30,
   "metadata": {},
   "outputs": [
    {
     "name": "stdout",
     "output_type": "stream",
     "text": [
      "Enter a decimal number: 16\n",
      "0b10000 in binary.\n",
      "0o20 in octal.\n",
      "0x10 in hexadecimal.\n"
     ]
    }
   ],
   "source": [
    "decimal=int(input(\"Enter a decimal number: \"))\n",
    "print(bin(decimal),\"in binary.\")  \n",
    "print(oct(decimal),\"in octal.\")  \n",
    "print(hex(decimal),\"in hexadecimal.\") "
   ]
  },
  {
   "cell_type": "markdown",
   "metadata": {},
   "source": [
    "### 4. Write a Python Program To Find ASCII value of a character?"
   ]
  },
  {
   "cell_type": "code",
   "execution_count": 29,
   "metadata": {},
   "outputs": [
    {
     "name": "stdout",
     "output_type": "stream",
     "text": [
      "Enter a character: A\n",
      "The ASCII value of A is 65\n"
     ]
    }
   ],
   "source": [
    "char = input(\"Enter a character: \")  \n",
    "  \n",
    "print(\"The ASCII value of \"+ char +\" is\",ord(char))"
   ]
  },
  {
   "cell_type": "markdown",
   "metadata": {},
   "source": [
    "### 5. Write a Python Program to Make a Simple Calculator with 4 basic mathematical operations?"
   ]
  },
  {
   "cell_type": "code",
   "execution_count": 37,
   "metadata": {},
   "outputs": [
    {
     "name": "stdout",
     "output_type": "stream",
     "text": [
      "Select operation.\n",
      "1.Add\n",
      "2.Subtract\n",
      "3.Multiply\n",
      "4.Divide\n",
      "Enter choice(1/2/3/4):1\n",
      "Enter first number: 4\n",
      "Enter second number: 5\n",
      "4 + 5 = 9\n"
     ]
    }
   ],
   "source": [
    "def add(x, y):  \n",
    "    \"\"\"This function adds two numbers\"\"\"\n",
    "    return x + y \n",
    "def subtract(x, y): \n",
    "    \"\"\"This function subtracts two numbers\"\"\" \n",
    "    return x - y \n",
    "def multiply(x, y): \n",
    "    \"\"\"This function multiplies two numbers\"\"\" \n",
    "    return x * y \n",
    "def divide(x, y): \n",
    "    \"\"\"This function divides two numbers\"\"\"  \n",
    "    return x / y   \n",
    "print(\"Select operation.\")  \n",
    "print(\"1.Add\")  \n",
    "print(\"2.Subtract\")  \n",
    "print(\"3.Multiply\")  \n",
    "print(\"4.Divide\")  \n",
    "  \n",
    "choice = input(\"Enter choice(1/2/3/4):\")  \n",
    "  \n",
    "num1 = int(input(\"Enter first number: \"))  \n",
    "num2 = int(input(\"Enter second number: \"))  \n",
    "  \n",
    "if choice == '1':  \n",
    "    print(num1,\"+\",num2,\"=\", add(num1,num2))  \n",
    "elif choice == '2':  \n",
    "    print(num1,\"-\",num2,\"=\", subtract(num1,num2))  \n",
    "elif choice == '3':  \n",
    "    print(num1,\"*\",num2,\"=\", multiply(num1,num2))  \n",
    "elif choice == '4':  \n",
    "    print(num1,\"/\",num2,\"=\", divide(num1,num2))  \n",
    "else:  \n",
    "    print(\"Invalid input\")  "
   ]
  },
  {
   "cell_type": "code",
   "execution_count": null,
   "metadata": {},
   "outputs": [],
   "source": []
  },
  {
   "cell_type": "code",
   "execution_count": null,
   "metadata": {},
   "outputs": [],
   "source": []
  }
 ],
 "metadata": {
  "kernelspec": {
   "display_name": "Python 3",
   "language": "python",
   "name": "python3"
  },
  "language_info": {
   "codemirror_mode": {
    "name": "ipython",
    "version": 3
   },
   "file_extension": ".py",
   "mimetype": "text/x-python",
   "name": "python",
   "nbconvert_exporter": "python",
   "pygments_lexer": "ipython3",
   "version": "3.8.5"
  }
 },
 "nbformat": 4,
 "nbformat_minor": 4
}
