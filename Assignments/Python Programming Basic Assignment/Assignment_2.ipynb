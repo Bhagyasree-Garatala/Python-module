{
 "cells": [
  {
   "cell_type": "markdown",
   "metadata": {},
   "source": [
    "### 1.Write a Python program to convert kilometers to miles?"
   ]
  },
  {
   "cell_type": "code",
   "execution_count": 3,
   "metadata": {},
   "outputs": [
    {
     "name": "stdout",
     "output_type": "stream",
     "text": [
      "Enter number of Kilometers: 4\n",
      " 4.0 kms = 2.48548 miles\n"
     ]
    }
   ],
   "source": [
    "def kmstomiles():\n",
    "    kms = float(input(\"Enter number of Kilometers: \"))\n",
    "    print(\" {} kms = {} miles\".format(kms, 0.62137*kms))\n",
    "kmstomiles()"
   ]
  },
  {
   "cell_type": "markdown",
   "metadata": {},
   "source": [
    "### 2.Write a Python program to convert Celsius to Fahrenheit?"
   ]
  },
  {
   "cell_type": "code",
   "execution_count": 4,
   "metadata": {},
   "outputs": [
    {
     "name": "stdout",
     "output_type": "stream",
     "text": [
      "Enter Temperature in degree celcius : 32\n",
      " 32.0 celcius = 89.6 Fahrenheit\n"
     ]
    }
   ],
   "source": [
    "def celciustoFahrenheit():\n",
    "    celcius = float(input(\"Enter Temperature in degree celcius : \"))\n",
    "    print(\" {} celcius = {} Fahrenheit\".format(celcius, (9/5)*celcius + 32 ))\n",
    "celciustoFahrenheit()"
   ]
  },
  {
   "cell_type": "markdown",
   "metadata": {},
   "source": [
    "### 3. Write a Python program to display calendar?"
   ]
  },
  {
   "cell_type": "code",
   "execution_count": 8,
   "metadata": {},
   "outputs": [
    {
     "name": "stdout",
     "output_type": "stream",
     "text": [
      "Enter year: 2021\n",
      "Enter month: 11\n",
      "   November 2021\n",
      "Mo Tu We Th Fr Sa Su\n",
      " 1  2  3  4  5  6  7\n",
      " 8  9 10 11 12 13 14\n",
      "15 16 17 18 19 20 21\n",
      "22 23 24 25 26 27 28\n",
      "29 30\n",
      "\n"
     ]
    }
   ],
   "source": [
    "import calendar   \n",
    "yy = int(input(\"Enter year: \"))  \n",
    "mm = int(input(\"Enter month: \"))  \n",
    "  \n",
    "print(calendar.month(yy,mm))"
   ]
  },
  {
   "cell_type": "markdown",
   "metadata": {},
   "source": [
    "### 4. Write a Python program to solve quadratic equation?"
   ]
  },
  {
   "cell_type": "code",
   "execution_count": 12,
   "metadata": {},
   "outputs": [
    {
     "name": "stdout",
     "output_type": "stream",
     "text": [
      "Enter coefficient of x^2 = 2\n",
      "Enter coefficient of x = 1\n",
      "Enter constant = 3\n",
      "solution = (-0.25-1.1989578808281798j) and (-0.25+1.1989578808281798j)\n"
     ]
    }
   ],
   "source": [
    "import cmath\n",
    "def quadraticeqn():\n",
    "    a = float(input(\"Enter coefficient of x^2 = \"))\n",
    "    b = float(input(\"Enter coefficient of x = \"))\n",
    "    c = float(input(\"Enter constant = \"))\n",
    "    d = (b**2) - (4*a*c)\n",
    "    r1 = (-b-cmath.sqrt(d))/(2*a)\n",
    "    r2 = (-b+cmath.sqrt(d))/(2*a)\n",
    "    print(\"solution = {0} and {1}\" .format(r1,r2))\n",
    "quadraticeqn()"
   ]
  },
  {
   "cell_type": "markdown",
   "metadata": {},
   "source": [
    "### 5. Write a Python program to swap two variables without temp variable?"
   ]
  },
  {
   "cell_type": "code",
   "execution_count": 11,
   "metadata": {},
   "outputs": [
    {
     "name": "stdout",
     "output_type": "stream",
     "text": [
      "Enter a = 4\n",
      "Enter b = 5\n",
      "After Swapping: a = 5.0  b = 4.0\n"
     ]
    }
   ],
   "source": [
    "def swap():\n",
    "    \n",
    "    a = float(input(\"Enter a = \"))\n",
    "    b = float(input(\"Enter b = \"))\n",
    " \n",
    "    a = a + b\n",
    "    b = a - b\n",
    "    a = a - b\n",
    "    \n",
    "    print(\"After Swapping: a =\", a, \" b =\", b)\n",
    "    \n",
    "swap()"
   ]
  },
  {
   "cell_type": "code",
   "execution_count": null,
   "metadata": {},
   "outputs": [],
   "source": []
  }
 ],
 "metadata": {
  "kernelspec": {
   "display_name": "Python 3",
   "language": "python",
   "name": "python3"
  },
  "language_info": {
   "codemirror_mode": {
    "name": "ipython",
    "version": 3
   },
   "file_extension": ".py",
   "mimetype": "text/x-python",
   "name": "python",
   "nbconvert_exporter": "python",
   "pygments_lexer": "ipython3",
   "version": "3.8.5"
  }
 },
 "nbformat": 4,
 "nbformat_minor": 4
}
