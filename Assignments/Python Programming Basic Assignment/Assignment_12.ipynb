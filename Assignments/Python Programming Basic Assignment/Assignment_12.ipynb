{
 "cells": [
  {
   "cell_type": "markdown",
   "metadata": {},
   "source": [
    "### 1. Write a Python program to Extract Unique values dictionary values?"
   ]
  },
  {
   "cell_type": "code",
   "execution_count": 9,
   "metadata": {},
   "outputs": [],
   "source": [
    "def unique_dict_values(d):\n",
    "    '''enter a dictionary'''\n",
    "    try:\n",
    "        res = set(d.values())\n",
    "        return res\n",
    "\n",
    "    except Exception as e:\n",
    "        print(\"Error is: \",e)"
   ]
  },
  {
   "cell_type": "code",
   "execution_count": 10,
   "metadata": {},
   "outputs": [
    {
     "data": {
      "text/plain": [
       "{23, 34}"
      ]
     },
     "execution_count": 10,
     "metadata": {},
     "output_type": "execute_result"
    }
   ],
   "source": [
    "unique_dict_values({'a':23,'b':34,'c':23,'d':34})"
   ]
  },
  {
   "cell_type": "markdown",
   "metadata": {},
   "source": [
    "### 2. Write a Python program to find the sum of all items in a dictionary?"
   ]
  },
  {
   "cell_type": "code",
   "execution_count": 44,
   "metadata": {},
   "outputs": [],
   "source": [
    "class sum_all_items:\n",
    "    \n",
    "    def __init__(self,d):\n",
    "        self.d = d\n",
    "        \n",
    "    def dict_items_sum(self):\n",
    "        sum = 0\n",
    "        for i in self.d.values():\n",
    "            sum = sum + i\n",
    "        return sum"
   ]
  },
  {
   "cell_type": "code",
   "execution_count": 45,
   "metadata": {},
   "outputs": [],
   "source": [
    "a = sum_all_items({'a':100,'b':200,'c':300,'d':400})"
   ]
  },
  {
   "cell_type": "code",
   "execution_count": 46,
   "metadata": {},
   "outputs": [
    {
     "data": {
      "text/plain": [
       "1000"
      ]
     },
     "execution_count": 46,
     "metadata": {},
     "output_type": "execute_result"
    }
   ],
   "source": [
    "a.dict_items_sum()"
   ]
  },
  {
   "cell_type": "markdown",
   "metadata": {},
   "source": [
    "### 3.Write a Python program to Merging two Dictionaries?"
   ]
  },
  {
   "cell_type": "code",
   "execution_count": 12,
   "metadata": {},
   "outputs": [],
   "source": [
    "class merging:\n",
    "    \n",
    "    def __init__(self,d1,d2):\n",
    "        self.d1 = d1\n",
    "        self.d2 = d2\n",
    "        \n",
    "    def merge_2_dicts(self):\n",
    "        try:\n",
    "            return {**self.d1,**self.d2}\n",
    "        except Exception as e:\n",
    "            print(e)\n",
    "            self.log(e)\n",
    "            \n",
    "    def log(self,e):\n",
    "        self.e = e\n",
    "        import logging as lg\n",
    "        lg.basicConfig(filename = \"0012_Assignment_12.log\" , level = lg.DEBUG , format = '%(asctime)s %(name)s %(levelname)s %(message)s')\n",
    "        Ques3 = lg.getLogger(\"Ques3\")\n",
    "        Ques3.warning(self.e)       "
   ]
  },
  {
   "cell_type": "code",
   "execution_count": 13,
   "metadata": {},
   "outputs": [],
   "source": [
    "m = merging({'a':1,'b':2},{'c':3,'d':4})"
   ]
  },
  {
   "cell_type": "code",
   "execution_count": 14,
   "metadata": {},
   "outputs": [
    {
     "data": {
      "text/plain": [
       "{'a': 1, 'b': 2, 'c': 3, 'd': 4}"
      ]
     },
     "execution_count": 14,
     "metadata": {},
     "output_type": "execute_result"
    }
   ],
   "source": [
    "m.merge_2_dicts()"
   ]
  },
  {
   "cell_type": "markdown",
   "metadata": {},
   "source": [
    "### 4.Write a Python program to convert key-values list to flat dictionary?"
   ]
  },
  {
   "cell_type": "code",
   "execution_count": 41,
   "metadata": {},
   "outputs": [],
   "source": [
    "class flat_dict:\n",
    "    \n",
    "    def __init__(self,d):\n",
    "        self.d = d\n",
    "    \n",
    "    def list_2_flatdict(self):\n",
    "        \n",
    "        print(\"The original dictionary is : \" + str(self.d))\n",
    "        res = dict(zip(d['days'], d['week']))\n",
    "        print(\"Flattened dictionary : \" + str(res)) \n",
    "    "
   ]
  },
  {
   "cell_type": "code",
   "execution_count": 42,
   "metadata": {},
   "outputs": [],
   "source": [
    "flat = flat_dict({'days' : [1, 2, 3],'week' : ['Mon', 'Tue', 'Wed']})"
   ]
  },
  {
   "cell_type": "code",
   "execution_count": 43,
   "metadata": {},
   "outputs": [
    {
     "name": "stdout",
     "output_type": "stream",
     "text": [
      "The original dictionary is : {'days': [1, 2, 3], 'week': ['Mon', 'Tue', 'Wed']}\n",
      "Flattened dictionary : {1: 'Mon', 2: 'Tue', 3: 'Wed'}\n"
     ]
    }
   ],
   "source": [
    "flat.list_2_flatdict()"
   ]
  },
  {
   "cell_type": "markdown",
   "metadata": {},
   "source": [
    "### 5. Write a Python program to insertion at the beginning in OrderedDict?"
   ]
  },
  {
   "cell_type": "code",
   "execution_count": 2,
   "metadata": {},
   "outputs": [
    {
     "name": "stdout",
     "output_type": "stream",
     "text": [
      "Original OrderedDict:\n",
      "OrderedDict([('color1', 'Red'), ('color2', 'Green'), ('color3', 'Blue')])\n",
      "Updated OrderedDict:\n",
      "OrderedDict([('color4', 'Orange'), ('color1', 'Red'), ('color2', 'Green'), ('color3', 'Blue')])\n"
     ]
    }
   ],
   "source": [
    "from collections import OrderedDict\n",
    "color_orderdict = OrderedDict([('color1', 'Red'), ('color2', 'Green'), ('color3', 'Blue')]) \n",
    "print(\"Original OrderedDict:\")\n",
    "print(color_orderdict)\n",
    "color_orderdict.update({'color4':'Orange'})\n",
    "color_orderdict.move_to_end('color4', last = False)\n",
    "print(\"Updated OrderedDict:\")\n",
    "print(color_orderdict)"
   ]
  },
  {
   "cell_type": "code",
   "execution_count": 12,
   "metadata": {},
   "outputs": [],
   "source": [
    "o = OrderedDict({'color1':'Red', 'color2':'Green', 'color3':'Blue'},{'color4':'Orange'})"
   ]
  },
  {
   "cell_type": "code",
   "execution_count": 13,
   "metadata": {},
   "outputs": [
    {
     "data": {
      "text/plain": [
       "{'color4': 'Orange', 'color1': 'Red', 'color2': 'Green', 'color3': 'Blue'}"
      ]
     },
     "execution_count": 13,
     "metadata": {},
     "output_type": "execute_result"
    }
   ],
   "source": [
    "o.insert_OrderedDict()"
   ]
  },
  {
   "cell_type": "markdown",
   "metadata": {},
   "source": [
    "### 6. Write a Python program to check order of character in string using OrderedDict()?"
   ]
  },
  {
   "cell_type": "code",
   "execution_count": 2,
   "metadata": {},
   "outputs": [],
   "source": [
    "from collections import OrderedDict\n",
    "def checkOrder(input, pattern):\n",
    "    dict = OrderedDict.fromkeys(input)\n",
    "    ptrlen = 0\n",
    "    for key,value in dict.items():\n",
    "        if (key == pattern[ptrlen]):\n",
    "            ptrlen = ptrlen + 1\n",
    "            if (ptrlen == (len(pattern))):\n",
    "                return 'true'\n",
    "    return 'false'"
   ]
  },
  {
   "cell_type": "code",
   "execution_count": 7,
   "metadata": {},
   "outputs": [
    {
     "name": "stdout",
     "output_type": "stream",
     "text": [
      "false\n"
     ]
    }
   ],
   "source": [
    "input = 'BhagyaSree'\n",
    "pattern = 'yg'\n",
    "print(checkOrder(input, pattern))"
   ]
  },
  {
   "cell_type": "code",
   "execution_count": 15,
   "metadata": {},
   "outputs": [
    {
     "name": "stdout",
     "output_type": "stream",
     "text": [
      "true\n"
     ]
    }
   ],
   "source": [
    "input = 'GoodMorning'\n",
    "pattern = 'ni'\n",
    "print(checkOrder(input, pattern))"
   ]
  },
  {
   "cell_type": "markdown",
   "metadata": {},
   "source": [
    "### 7. Write a Python program to sort Python Dictionaries by Key or Value?"
   ]
  },
  {
   "cell_type": "code",
   "execution_count": 18,
   "metadata": {},
   "outputs": [],
   "source": [
    "class DictSort:\n",
    "    def __init__(self,d):\n",
    "        self.d = d\n",
    "    def Key_DictSort(self):\n",
    "        a = sorted(self.d.keys())\n",
    "        s = {}\n",
    "        for i in a:\n",
    "            s[i] = self.d[i]\n",
    "        return s\n",
    "    def Value_DictSort(self):\n",
    "        a = sorted(self.d, key=self.d.__getitem__)\n",
    "        s = {}\n",
    "        for i in a:\n",
    "            s[i] = self.d[i]\n",
    "        return s"
   ]
  },
  {
   "cell_type": "code",
   "execution_count": 29,
   "metadata": {},
   "outputs": [],
   "source": [
    "d1 = {\"p\":5,\"r\":1,\"s\":4,\"q\":2}"
   ]
  },
  {
   "cell_type": "code",
   "execution_count": 30,
   "metadata": {},
   "outputs": [],
   "source": [
    "d = DictSort(d1)"
   ]
  },
  {
   "cell_type": "code",
   "execution_count": 31,
   "metadata": {},
   "outputs": [
    {
     "data": {
      "text/plain": [
       "{'p': 5, 'q': 2, 'r': 1, 's': 4}"
      ]
     },
     "execution_count": 31,
     "metadata": {},
     "output_type": "execute_result"
    }
   ],
   "source": [
    "d.Key_DictSort()"
   ]
  },
  {
   "cell_type": "code",
   "execution_count": 32,
   "metadata": {},
   "outputs": [
    {
     "data": {
      "text/plain": [
       "{'r': 1, 'q': 2, 's': 4, 'p': 5}"
      ]
     },
     "execution_count": 32,
     "metadata": {},
     "output_type": "execute_result"
    }
   ],
   "source": [
    "d.Value_DictSort()"
   ]
  },
  {
   "cell_type": "code",
   "execution_count": null,
   "metadata": {},
   "outputs": [],
   "source": []
  }
 ],
 "metadata": {
  "kernelspec": {
   "display_name": "Python 3",
   "language": "python",
   "name": "python3"
  },
  "language_info": {
   "codemirror_mode": {
    "name": "ipython",
    "version": 3
   },
   "file_extension": ".py",
   "mimetype": "text/x-python",
   "name": "python",
   "nbconvert_exporter": "python",
   "pygments_lexer": "ipython3",
   "version": "3.8.5"
  }
 },
 "nbformat": 4,
 "nbformat_minor": 4
}
